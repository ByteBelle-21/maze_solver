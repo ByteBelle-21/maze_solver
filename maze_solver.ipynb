{
  "nbformat": 4,
  "nbformat_minor": 0,
  "metadata": {
    "colab": {
      "provenance": [],
      "authorship_tag": "ABX9TyO0QJJy9mLxmfxfvxQ5cxoH",
      "include_colab_link": true
    },
    "kernelspec": {
      "name": "python3",
      "display_name": "Python 3"
    },
    "language_info": {
      "name": "python"
    }
  },
  "cells": [
    {
      "cell_type": "markdown",
      "metadata": {
        "id": "view-in-github",
        "colab_type": "text"
      },
      "source": [
        "<a href=\"https://colab.research.google.com/github/ByteBelle-21/maze_solver/blob/main/maze_solver.ipynb\" target=\"_parent\"><img src=\"https://colab.research.google.com/assets/colab-badge.svg\" alt=\"Open In Colab\"/></a>"
      ]
    },
    {
      "cell_type": "code",
      "execution_count": 74,
      "metadata": {
        "id": "KmAMOIkcPsjm"
      },
      "outputs": [],
      "source": [
        "import matplotlib.pyplot as plt\n",
        "import numpy as np\n",
        "from google.colab import files\n",
        "import cv2"
      ]
    },
    {
      "cell_type": "code",
      "source": [
        "is_valid = False\n",
        "filename = \"\"\n",
        "while not is_valid :\n",
        "  input_image = files.upload()\n",
        "  filename = next(iter(input_image))\n",
        "  is_valid = cv2.haveImageWriter(filename)\n",
        "  if not is_valid :\n",
        "    print(\"File format not supported. Upload new file!\")\n",
        "  else :\n",
        "    opened_file = open(filename, \"wb\")\n",
        "    opened_file.write(input_image[filename])\n",
        "\n",
        "valid_image = cv2.imread(filename)\n",
        "if valid_image is None:\n",
        "  print(\"File doesn't exist\")\n",
        "  exit(0)\n",
        "plt.imshow(valid_image)\n",
        "plt.axis(\"off\")\n",
        "plt.title(\"Original Uploaded Image\")\n",
        "plt.show()"
      ],
      "metadata": {
        "colab": {
          "base_uri": "https://localhost:8080/",
          "height": 484
        },
        "id": "nWD2nTxWQGoz",
        "outputId": "6e5c1076-b38b-4900-95de-6d403fc5551c"
      },
      "execution_count": 75,
      "outputs": [
        {
          "output_type": "display_data",
          "data": {
            "text/plain": [
              "<IPython.core.display.HTML object>"
            ],
            "text/html": [
              "\n",
              "     <input type=\"file\" id=\"files-f97637a2-0833-43d7-9217-41590584123f\" name=\"files[]\" multiple disabled\n",
              "        style=\"border:none\" />\n",
              "     <output id=\"result-f97637a2-0833-43d7-9217-41590584123f\">\n",
              "      Upload widget is only available when the cell has been executed in the\n",
              "      current browser session. Please rerun this cell to enable.\n",
              "      </output>\n",
              "      <script>// Copyright 2017 Google LLC\n",
              "//\n",
              "// Licensed under the Apache License, Version 2.0 (the \"License\");\n",
              "// you may not use this file except in compliance with the License.\n",
              "// You may obtain a copy of the License at\n",
              "//\n",
              "//      http://www.apache.org/licenses/LICENSE-2.0\n",
              "//\n",
              "// Unless required by applicable law or agreed to in writing, software\n",
              "// distributed under the License is distributed on an \"AS IS\" BASIS,\n",
              "// WITHOUT WARRANTIES OR CONDITIONS OF ANY KIND, either express or implied.\n",
              "// See the License for the specific language governing permissions and\n",
              "// limitations under the License.\n",
              "\n",
              "/**\n",
              " * @fileoverview Helpers for google.colab Python module.\n",
              " */\n",
              "(function(scope) {\n",
              "function span(text, styleAttributes = {}) {\n",
              "  const element = document.createElement('span');\n",
              "  element.textContent = text;\n",
              "  for (const key of Object.keys(styleAttributes)) {\n",
              "    element.style[key] = styleAttributes[key];\n",
              "  }\n",
              "  return element;\n",
              "}\n",
              "\n",
              "// Max number of bytes which will be uploaded at a time.\n",
              "const MAX_PAYLOAD_SIZE = 100 * 1024;\n",
              "\n",
              "function _uploadFiles(inputId, outputId) {\n",
              "  const steps = uploadFilesStep(inputId, outputId);\n",
              "  const outputElement = document.getElementById(outputId);\n",
              "  // Cache steps on the outputElement to make it available for the next call\n",
              "  // to uploadFilesContinue from Python.\n",
              "  outputElement.steps = steps;\n",
              "\n",
              "  return _uploadFilesContinue(outputId);\n",
              "}\n",
              "\n",
              "// This is roughly an async generator (not supported in the browser yet),\n",
              "// where there are multiple asynchronous steps and the Python side is going\n",
              "// to poll for completion of each step.\n",
              "// This uses a Promise to block the python side on completion of each step,\n",
              "// then passes the result of the previous step as the input to the next step.\n",
              "function _uploadFilesContinue(outputId) {\n",
              "  const outputElement = document.getElementById(outputId);\n",
              "  const steps = outputElement.steps;\n",
              "\n",
              "  const next = steps.next(outputElement.lastPromiseValue);\n",
              "  return Promise.resolve(next.value.promise).then((value) => {\n",
              "    // Cache the last promise value to make it available to the next\n",
              "    // step of the generator.\n",
              "    outputElement.lastPromiseValue = value;\n",
              "    return next.value.response;\n",
              "  });\n",
              "}\n",
              "\n",
              "/**\n",
              " * Generator function which is called between each async step of the upload\n",
              " * process.\n",
              " * @param {string} inputId Element ID of the input file picker element.\n",
              " * @param {string} outputId Element ID of the output display.\n",
              " * @return {!Iterable<!Object>} Iterable of next steps.\n",
              " */\n",
              "function* uploadFilesStep(inputId, outputId) {\n",
              "  const inputElement = document.getElementById(inputId);\n",
              "  inputElement.disabled = false;\n",
              "\n",
              "  const outputElement = document.getElementById(outputId);\n",
              "  outputElement.innerHTML = '';\n",
              "\n",
              "  const pickedPromise = new Promise((resolve) => {\n",
              "    inputElement.addEventListener('change', (e) => {\n",
              "      resolve(e.target.files);\n",
              "    });\n",
              "  });\n",
              "\n",
              "  const cancel = document.createElement('button');\n",
              "  inputElement.parentElement.appendChild(cancel);\n",
              "  cancel.textContent = 'Cancel upload';\n",
              "  const cancelPromise = new Promise((resolve) => {\n",
              "    cancel.onclick = () => {\n",
              "      resolve(null);\n",
              "    };\n",
              "  });\n",
              "\n",
              "  // Wait for the user to pick the files.\n",
              "  const files = yield {\n",
              "    promise: Promise.race([pickedPromise, cancelPromise]),\n",
              "    response: {\n",
              "      action: 'starting',\n",
              "    }\n",
              "  };\n",
              "\n",
              "  cancel.remove();\n",
              "\n",
              "  // Disable the input element since further picks are not allowed.\n",
              "  inputElement.disabled = true;\n",
              "\n",
              "  if (!files) {\n",
              "    return {\n",
              "      response: {\n",
              "        action: 'complete',\n",
              "      }\n",
              "    };\n",
              "  }\n",
              "\n",
              "  for (const file of files) {\n",
              "    const li = document.createElement('li');\n",
              "    li.append(span(file.name, {fontWeight: 'bold'}));\n",
              "    li.append(span(\n",
              "        `(${file.type || 'n/a'}) - ${file.size} bytes, ` +\n",
              "        `last modified: ${\n",
              "            file.lastModifiedDate ? file.lastModifiedDate.toLocaleDateString() :\n",
              "                                    'n/a'} - `));\n",
              "    const percent = span('0% done');\n",
              "    li.appendChild(percent);\n",
              "\n",
              "    outputElement.appendChild(li);\n",
              "\n",
              "    const fileDataPromise = new Promise((resolve) => {\n",
              "      const reader = new FileReader();\n",
              "      reader.onload = (e) => {\n",
              "        resolve(e.target.result);\n",
              "      };\n",
              "      reader.readAsArrayBuffer(file);\n",
              "    });\n",
              "    // Wait for the data to be ready.\n",
              "    let fileData = yield {\n",
              "      promise: fileDataPromise,\n",
              "      response: {\n",
              "        action: 'continue',\n",
              "      }\n",
              "    };\n",
              "\n",
              "    // Use a chunked sending to avoid message size limits. See b/62115660.\n",
              "    let position = 0;\n",
              "    do {\n",
              "      const length = Math.min(fileData.byteLength - position, MAX_PAYLOAD_SIZE);\n",
              "      const chunk = new Uint8Array(fileData, position, length);\n",
              "      position += length;\n",
              "\n",
              "      const base64 = btoa(String.fromCharCode.apply(null, chunk));\n",
              "      yield {\n",
              "        response: {\n",
              "          action: 'append',\n",
              "          file: file.name,\n",
              "          data: base64,\n",
              "        },\n",
              "      };\n",
              "\n",
              "      let percentDone = fileData.byteLength === 0 ?\n",
              "          100 :\n",
              "          Math.round((position / fileData.byteLength) * 100);\n",
              "      percent.textContent = `${percentDone}% done`;\n",
              "\n",
              "    } while (position < fileData.byteLength);\n",
              "  }\n",
              "\n",
              "  // All done.\n",
              "  yield {\n",
              "    response: {\n",
              "      action: 'complete',\n",
              "    }\n",
              "  };\n",
              "}\n",
              "\n",
              "scope.google = scope.google || {};\n",
              "scope.google.colab = scope.google.colab || {};\n",
              "scope.google.colab._files = {\n",
              "  _uploadFiles,\n",
              "  _uploadFilesContinue,\n",
              "};\n",
              "})(self);\n",
              "</script> "
            ]
          },
          "metadata": {}
        },
        {
          "output_type": "stream",
          "name": "stdout",
          "text": [
            "Saving maze1.png to maze1 (18).png\n"
          ]
        },
        {
          "output_type": "display_data",
          "data": {
            "text/plain": [
              "<Figure size 640x480 with 1 Axes>"
            ],
            "image/png": "[encoded data removed]"
          },
          "metadata": {}
        }
      ]
    },
    {
      "cell_type": "code",
      "source": [
        "gray_image = cv2.cvtColor(valid_image, cv2.COLOR_BGR2GRAY)\n",
        "binary_image = cv2.adaptiveThreshold(gray_image, 255, cv2.ADAPTIVE_THRESH_MEAN_C, cv2.THRESH_BINARY, 15, 2)\n",
        "plt.imshow(binary_image, cmap='gray')\n",
        "plt.axis(\"off\")\n",
        "plt.title(\"Updated Binary Image\")\n",
        "plt.show()"
      ],
      "metadata": {
        "colab": {
          "base_uri": "https://localhost:8080/",
          "height": 428
        },
        "id": "n8mfOLa9ZeRg",
        "outputId": "0c49790d-d36b-4a80-b7f0-f914ad7d8151"
      },
      "execution_count": 76,
      "outputs": [
        {
          "output_type": "display_data",
          "data": {
            "text/plain": [
              "<Figure size 640x480 with 1 Axes>"
            ],
            "image/png": "[encoded data removed]"
          },
          "metadata": {}
        }
      ]
    },
    {
      "cell_type": "code",
      "source": [
        "image_matrix = (binary_image == 255).astype(int)\n",
        "print(\"Converted image matrix\")\n",
        "print(image_matrix)"
      ],
      "metadata": {
        "colab": {
          "base_uri": "https://localhost:8080/"
        },
        "id": "nVXfhi4YfJ73",
        "outputId": "a699490c-e4bd-4c64-f1be-2f11c7bae895"
      },
      "execution_count": 77,
      "outputs": [
        {
          "output_type": "stream",
          "name": "stdout",
          "text": [
            "Converted image matrix\n",
            "[[1 1 1 ... 1 1 1]\n",
            " [1 1 1 ... 1 1 1]\n",
            " [1 1 1 ... 1 1 1]\n",
            " ...\n",
            " [1 1 1 ... 1 1 1]\n",
            " [1 1 1 ... 1 1 1]\n",
            " [1 1 1 ... 1 1 1]]\n"
          ]
        }
      ]
    },
    {
      "cell_type": "code",
      "source": [
        "def opening_top_border(image_matrix):\n",
        "  height, width = image_matrix.shape\n",
        "  opening = []\n",
        "  for x in range(height):\n",
        "    wall_found = False\n",
        "    for y in range(width):\n",
        "      if image_matrix[x][y] == 1 and wall_found:\n",
        "        opening.append((x, y))\n",
        "        if y == (width - 1):\n",
        "          return []\n",
        "      elif image_matrix[x][y] == 0 and not wall_found:\n",
        "        wall_found = True\n",
        "      elif image_matrix[x][y] == 0 and wall_found and image_matrix[x][y-1] == 1:\n",
        "        return opening\n",
        "  return opening\n",
        "\n",
        "def opening_bottom_border(image_matrix):\n",
        "  height, width = image_matrix.shape\n",
        "  opening = []\n",
        "  for x in reversed(range(height)):\n",
        "    wall_found = False\n",
        "    for y in range(width):\n",
        "      if image_matrix[x][y] == 1 and wall_found:\n",
        "        opening.append((x, y))\n",
        "        if y == (width - 1):\n",
        "          return []\n",
        "      elif image_matrix[x][y] == 0 and not wall_found:\n",
        "        wall_found = True\n",
        "      elif image_matrix[x][y] == 0 and wall_found and image_matrix[x][y-1] == 1:\n",
        "        return opening\n",
        "  return opening\n",
        "\n",
        "\n",
        "def opening_left_border(image_matrix):\n",
        "  height, width = image_matrix.shape\n",
        "  opening = []\n",
        "  for y in range(width):\n",
        "    wall_found = False\n",
        "    for x in range(height):\n",
        "      if image_matrix[x][y] == 1 and wall_found:\n",
        "        opening.append((x, y))\n",
        "        if x == (height - 1):\n",
        "          return []\n",
        "      elif image_matrix[x][y] == 0 and not wall_found:\n",
        "        wall_found = True\n",
        "      elif image_matrix[x][y] == 0 and wall_found and image_matrix[x-1][y] == 1:\n",
        "        return opening\n",
        "  return opening\n",
        "\n",
        "def opening_right_border(image_matrix):\n",
        "  height, width = image_matrix.shape\n",
        "  opening = []\n",
        "  for y in reversed(range(width)):\n",
        "    wall_found = False\n",
        "    for x in range(height):\n",
        "      if image_matrix[x][y] == 1 and wall_found:\n",
        "        opening.append((x, y))\n",
        "        if x == (height - 1):\n",
        "          return []\n",
        "      elif image_matrix[x][y] == 0 and not wall_found:\n",
        "        wall_found = True\n",
        "      elif image_matrix[x][y] == 0 and wall_found and image_matrix[x-1][y] == 1:\n",
        "        return opening\n",
        "  return opening"
      ],
      "metadata": {
        "id": "WqTz9OlZvKEX"
      },
      "execution_count": 78,
      "outputs": []
    },
    {
      "cell_type": "code",
      "source": [
        "top_opening = opening_top_border(image_matrix)\n",
        "bottom_opening = opening_bottom_border(image_matrix)\n",
        "left_opening = opening_left_border(image_matrix)\n",
        "right_opening  =  opening_right_border(image_matrix)\n",
        "\n",
        "start = (-1, -1)\n",
        "end = (-1, -1)\n",
        "\n",
        "if top_opening == [] and bottom_opening == [] and left_opening == [] and right_opening == []:\n",
        "  print(\"No opening found\")\n",
        "  exit(0)\n",
        "\n",
        "if len(top_opening) > 0:\n",
        "  if start == (-1, -1):\n",
        "    start = (top_opening[0][0],((top_opening[0][1] + top_opening[-1][1]) // 2))\n",
        "  elif end == (-1, -1):\n",
        "    end = (top_opening[0][0],((top_opening[0][1] + top_opening[-1][1]) // 2))\n",
        "\n",
        "if len(bottom_opening) > 0:\n",
        "  if start == (-1, -1):\n",
        "    start = (bottom_opening[0][0],((bottom_opening[0][1] + bottom_opening[-1][1]) // 2))\n",
        "  elif end == (-1, -1):\n",
        "    end = (bottom_opening[0][0],((bottom_opening[0][1] + bottom_opening[-1][1]) // 2))\n",
        "\n",
        "if len(left_opening) > 0:\n",
        "  if start == (-1, -1):\n",
        "    start = (((left_opening[0][0] + left_opening[-1][0]) // 2), left_opening[0][1])\n",
        "  elif end == (-1, -1):\n",
        "    end = (((left_opening[0][0] + left_opening[-1][0]) // 2), left_opening[0][1])\n",
        "\n",
        "if len(right_opening) > 0:\n",
        "  if start == (-1, -1):\n",
        "    start = (((right_opening[0][0] + right_opening[-1][0]) // 2), right_opening[0][1])\n",
        "  elif end == (-1, -1):\n",
        "    end = (((right_opening[0][0] + right_opening[-1][0]) // 2), right_opening[0][1])\n",
        "\n",
        "\n",
        "print(\"Start position is\", start)\n",
        "print(\"End position is\", end)"
      ],
      "metadata": {
        "colab": {
          "base_uri": "https://localhost:8080/"
        },
        "id": "Q5RGjM9O8EpM",
        "outputId": "a3a87782-026d-4c46-c69c-87545ff5db85"
      },
      "execution_count": 84,
      "outputs": [
        {
          "output_type": "stream",
          "name": "stdout",
          "text": [
            "Start position is (180, 45)\n",
            "End position is (33, 211)\n"
          ]
        }
      ]
    }
  ]
}