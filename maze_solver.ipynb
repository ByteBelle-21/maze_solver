{
  "nbformat": 4,
  "nbformat_minor": 0,
  "metadata": {
    "colab": {
      "provenance": [],
      "authorship_tag": "ABX9TyMJZYWDDOE3FPr/exFGzRvd",
      "include_colab_link": true
    },
    "kernelspec": {
      "name": "python3",
      "display_name": "Python 3"
    },
    "language_info": {
      "name": "python"
    }
  },
  "cells": [
    {
      "cell_type": "markdown",
      "metadata": {
        "id": "view-in-github",
        "colab_type": "text"
      },
      "source": [
        "<a href=\"https://colab.research.google.com/github/ByteBelle-21/maze_solver/blob/main/maze_solver.ipynb\" target=\"_parent\"><img src=\"https://colab.research.google.com/assets/colab-badge.svg\" alt=\"Open In Colab\"/></a>"
      ]
    },
    {
      "cell_type": "code",
      "execution_count": null,
      "metadata": {
        "id": "KmAMOIkcPsjm"
      },
      "outputs": [],
      "source": [
        "import matplotlib.pyplot as plt\n",
        "import numpy as np\n",
        "from google.colab import files\n",
        "import cv2\n",
        "from gym import Env\n",
        "from gym.spaces import Discrete, Box\n",
        "import random\n"
      ]
    },
    {
      "cell_type": "code",
      "source": [
        "is_valid = False\n",
        "filename = \"\"\n",
        "while not is_valid :\n",
        "  input_image = files.upload()\n",
        "  filename = next(iter(input_image))\n",
        "  is_valid = cv2.haveImageWriter(filename)\n",
        "  if not is_valid :\n",
        "    print(\"File format not supported. Upload new file!\")\n",
        "  else :\n",
        "    opened_file = open(filename, \"wb\")\n",
        "    opened_file.write(input_image[filename])\n",
        "\n",
        "valid_image = cv2.imread(filename)\n",
        "if valid_image is None:\n",
        "  print(\"File doesn't exist\")\n",
        "  exit(0)\n",
        "plt.imshow(valid_image)\n",
        "plt.axis(\"off\")\n",
        "plt.title(\"Original Uploaded Image\")\n",
        "plt.show()"
      ],
      "metadata": {
        "id": "nWD2nTxWQGoz"
      },
      "execution_count": null,
      "outputs": []
    },
    {
      "cell_type": "code",
      "source": [
        "gray_image = cv2.cvtColor(valid_image, cv2.COLOR_BGR2GRAY)\n",
        "binary_image = cv2.adaptiveThreshold(gray_image, 255, cv2.ADAPTIVE_THRESH_MEAN_C, cv2.THRESH_BINARY, 15, 2)\n",
        "plt.imshow(binary_image, cmap='gray')\n",
        "plt.axis(\"off\")\n",
        "plt.title(\"Updated Binary Image\")\n",
        "plt.show()"
      ],
      "metadata": {
        "id": "n8mfOLa9ZeRg"
      },
      "execution_count": null,
      "outputs": []
    },
    {
      "cell_type": "code",
      "source": [
        "image_matrix = (binary_image == 255).astype(int)\n",
        "print(\"Converted image matrix\")\n",
        "print(image_matrix)"
      ],
      "metadata": {
        "id": "nVXfhi4YfJ73"
      },
      "execution_count": null,
      "outputs": []
    },
    {
      "cell_type": "code",
      "source": [
        "def opening_top_border(image_matrix):\n",
        "  height, width = image_matrix.shape\n",
        "  opening = []\n",
        "  for x in range(height):\n",
        "    wall_found = False\n",
        "    for y in range(width):\n",
        "      if image_matrix[x][y] == 1 and wall_found:\n",
        "        opening.append((x, y))\n",
        "        if y == (width - 1):\n",
        "          return []\n",
        "      elif image_matrix[x][y] == 0 and not wall_found:\n",
        "        wall_found = True\n",
        "      elif image_matrix[x][y] == 0 and wall_found and image_matrix[x][y-1] == 1:\n",
        "        return opening\n",
        "  return opening\n",
        "\n",
        "def opening_bottom_border(image_matrix):\n",
        "  height, width = image_matrix.shape\n",
        "  opening = []\n",
        "  for x in reversed(range(height)):\n",
        "    wall_found = False\n",
        "    for y in range(width):\n",
        "      if image_matrix[x][y] == 1 and wall_found:\n",
        "        opening.append((x, y))\n",
        "        if y == (width - 1):\n",
        "          return []\n",
        "      elif image_matrix[x][y] == 0 and not wall_found:\n",
        "        wall_found = True\n",
        "      elif image_matrix[x][y] == 0 and wall_found and image_matrix[x][y-1] == 1:\n",
        "        return opening\n",
        "  return opening\n",
        "\n",
        "\n",
        "def opening_left_border(image_matrix):\n",
        "  height, width = image_matrix.shape\n",
        "  opening = []\n",
        "  for y in range(width):\n",
        "    wall_found = False\n",
        "    for x in range(height):\n",
        "      if image_matrix[x][y] == 1 and wall_found:\n",
        "        opening.append((x, y))\n",
        "        if x == (height - 1):\n",
        "          return []\n",
        "      elif image_matrix[x][y] == 0 and not wall_found:\n",
        "        wall_found = True\n",
        "      elif image_matrix[x][y] == 0 and wall_found and image_matrix[x-1][y] == 1:\n",
        "        return opening\n",
        "  return opening\n",
        "\n",
        "def opening_right_border(image_matrix):\n",
        "  height, width = image_matrix.shape\n",
        "  opening = []\n",
        "  for y in reversed(range(width)):\n",
        "    wall_found = False\n",
        "    for x in range(height):\n",
        "      if image_matrix[x][y] == 1 and wall_found:\n",
        "        opening.append((x, y))\n",
        "        if x == (height - 1):\n",
        "          return []\n",
        "      elif image_matrix[x][y] == 0 and not wall_found:\n",
        "        wall_found = True\n",
        "      elif image_matrix[x][y] == 0 and wall_found and image_matrix[x-1][y] == 1:\n",
        "        return opening\n",
        "  return opening"
      ],
      "metadata": {
        "id": "WqTz9OlZvKEX"
      },
      "execution_count": null,
      "outputs": []
    },
    {
      "cell_type": "code",
      "source": [
        "top_opening = opening_top_border(image_matrix)\n",
        "bottom_opening = opening_bottom_border(image_matrix)\n",
        "left_opening = opening_left_border(image_matrix)\n",
        "right_opening  =  opening_right_border(image_matrix)\n",
        "\n",
        "start = (-1, -1)\n",
        "end = (-1, -1)\n",
        "\n",
        "if top_opening == [] and bottom_opening == [] and left_opening == [] and right_opening == []:\n",
        "  print(\"No opening found\")\n",
        "  exit(0)\n",
        "\n",
        "if len(top_opening) > 0:\n",
        "  if start == (-1, -1):\n",
        "    start = (top_opening[0][0],((top_opening[0][1] + top_opening[-1][1]) // 2))\n",
        "  elif end == (-1, -1):\n",
        "    end = (top_opening[0][0],((top_opening[0][1] + top_opening[-1][1]) // 2))\n",
        "\n",
        "if len(bottom_opening) > 0:\n",
        "  if start == (-1, -1):\n",
        "    start = (bottom_opening[0][0],((bottom_opening[0][1] + bottom_opening[-1][1]) // 2))\n",
        "  elif end == (-1, -1):\n",
        "    end = (bottom_opening[0][0],((bottom_opening[0][1] + bottom_opening[-1][1]) // 2))\n",
        "\n",
        "if len(left_opening) > 0:\n",
        "  if start == (-1, -1):\n",
        "    start = (((left_opening[0][0] + left_opening[-1][0]) // 2), left_opening[0][1])\n",
        "  elif end == (-1, -1):\n",
        "    end = (((left_opening[0][0] + left_opening[-1][0]) // 2), left_opening[0][1])\n",
        "\n",
        "if len(right_opening) > 0:\n",
        "  if start == (-1, -1):\n",
        "    start = (((right_opening[0][0] + right_opening[-1][0]) // 2), right_opening[0][1])\n",
        "  elif end == (-1, -1):\n",
        "    end = (((right_opening[0][0] + right_opening[-1][0]) // 2), right_opening[0][1])\n",
        "\n",
        "\n",
        "print(\"Start position is\", start)\n",
        "print(\"End position is\", end)"
      ],
      "metadata": {
        "id": "Q5RGjM9O8EpM"
      },
      "execution_count": null,
      "outputs": []
    },
    {
      "cell_type": "code",
      "source": [
        "class mazeEnv(Env):\n",
        "  def __init__(self, image_matrix, start, end):\n",
        "    self.image_matrix = image_matrix\n",
        "    self.start = start\n",
        "    self.end = end\n",
        "    self.goal = end\n",
        "    self.position = start\n",
        "    self.action_space = Discrete(4)\n",
        "    self.observation_space = Box(low=0, high=1, shape=(image_matrix.shape[0], image_matrix.shape[1], 1), dtype=np.uint8)\n",
        "\n",
        "  def step(self, action):\n",
        "    x, y =  self.position\n",
        "    if action == 0:\n",
        "      x -= 1\n",
        "    elif action == 1:\n",
        "      x += 1\n",
        "    elif action == 2:\n",
        "      y += 1\n",
        "    elif action == 3:\n",
        "      y -= 1\n",
        "\n",
        "    if 0 <= x < self.image_matrix.shape[0] and 0 <= y < self.image_matrix.shape[1] and self.image_matrix[x][y] == 1:\n",
        "      self.position = (x, y)\n",
        "      reward = 0\n",
        "    else:\n",
        "      reward = -1\n",
        "\n",
        "    if self.position == self.goal:\n",
        "      reward = 10\n",
        "    return self.image_matrix, reward, self.position == self.goal, {}\n",
        "\n",
        "  def reset(self):\n",
        "    self.position = self.start\n",
        "    self.goal = self.end\n",
        "    return self.image_matrix\n"
      ],
      "metadata": {
        "id": "MclGBh-AEIe3"
      },
      "execution_count": null,
      "outputs": []
    }
  ]
}