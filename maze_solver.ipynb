{
  "nbformat": 4,
  "nbformat_minor": 0,
  "metadata": {
    "colab": {
      "provenance": [],
      "authorship_tag": "ABX9TyPmr/vxPtaKN0Oqls0Rg71f",
      "include_colab_link": true
    },
    "kernelspec": {
      "name": "python3",
      "display_name": "Python 3"
    },
    "language_info": {
      "name": "python"
    }
  },
  "cells": [
    {
      "cell_type": "markdown",
      "metadata": {
        "id": "view-in-github",
        "colab_type": "text"
      },
      "source": [
        "<a href=\"https://colab.research.google.com/github/ByteBelle-21/maze_solver/blob/main/maze_solver.ipynb\" target=\"_parent\"><img src=\"https://colab.research.google.com/assets/colab-badge.svg\" alt=\"Open In Colab\"/></a>"
      ]
    },
    {
      "cell_type": "code",
      "execution_count": 53,
      "metadata": {
        "id": "KmAMOIkcPsjm"
      },
      "outputs": [],
      "source": [
        "import matplotlib.pyplot as plt\n",
        "import numpy as np\n",
        "from google.colab import files\n",
        "import cv2"
      ]
    },
    {
      "cell_type": "code",
      "source": [
        "is_valid = False\n",
        "filename = \"\"\n",
        "while not is_valid :\n",
        "  input_image = files.upload()\n",
        "  filename = next(iter(input_image))\n",
        "  is_valid = cv2.haveImageWriter(filename)\n",
        "  if not is_valid :\n",
        "    print(\"File format not supported. Upload new file!\")\n",
        "  else :\n",
        "    opened_file = open(filename, \"wb\")\n",
        "    opened_file.write(input_image[filename])\n",
        "\n",
        "valid_image = cv2.imread(filename)\n",
        "if valid_image is None:\n",
        "  print(\"File doesn't exist\")\n",
        "  exit(0)\n",
        "plt.imshow(valid_image)\n",
        "plt.axis(\"off\")\n",
        "plt.title(\"Original Uploaded Image\")\n",
        "plt.show()"
      ],
      "metadata": {
        "id": "nWD2nTxWQGoz"
      },
      "execution_count": null,
      "outputs": []
    },
    {
      "cell_type": "code",
      "source": [
        "gray_image = cv2.cvtColor(valid_image, cv2.COLOR_BGR2GRAY)\n",
        "binary_image = cv2.adaptiveThreshold(gray_image, 255, cv2.ADAPTIVE_THRESH_MEAN_C, cv2.THRESH_BINARY, 15, 2)\n",
        "plt.imshow(binary_image, cmap='gray')\n",
        "plt.axis(\"off\")\n",
        "plt.title(\"Updated Binary Image\")\n",
        "plt.show()"
      ],
      "metadata": {
        "id": "n8mfOLa9ZeRg"
      },
      "execution_count": null,
      "outputs": []
    },
    {
      "cell_type": "code",
      "source": [
        "image_matrix = (binary_image == 255).astype(int)\n",
        "print(image_matrix)"
      ],
      "metadata": {
        "id": "nVXfhi4YfJ73"
      },
      "execution_count": null,
      "outputs": []
    }
  ]
}